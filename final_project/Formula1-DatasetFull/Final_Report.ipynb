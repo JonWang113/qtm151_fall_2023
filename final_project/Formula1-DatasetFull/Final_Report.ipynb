{
 "cells": [
  {
   "cell_type": "markdown",
   "metadata": {},
   "source": [
    "                                                        QTM 151 Final Project- Formula 1\n",
    "Project members: Jonathan Wang, Samuel Lim \\\n",
    "QTM 151-1"
   ]
  },
  {
   "cell_type": "markdown",
   "metadata": {},
   "source": [
    "Introduction\n",
    "\n",
    "What is Formula 1\\\n",
    "What questions you are interested and WHY it's relevant\\\n",
    "High-level description of RESULT and PROJECT STRUCTURE"
   ]
  },
  {
   "cell_type": "markdown",
   "metadata": {},
   "source": [
    "Which circuit produces the fastest finishing time on average.\\\n",
    "Why: Since it's a race for the speed, finding circuits that produce higher average finishing time "
   ]
  },
  {
   "cell_type": "markdown",
   "metadata": {},
   "source": [
    "Data Description\n",
    "\n",
    "Describe which dataset tables we're using\n",
    "    what each row represent\n",
    "    how many observations contained in each table\n",
    "    the years\n",
    "    Overview of the data \n",
    "\n",
    "Describe any merging procedures\n",
    "\n",
    "Summarize data cleaning procedures\n",
    "\n",
    "describe your main columns- deep analysis for FEW\n"
   ]
  },
  {
   "cell_type": "code",
   "execution_count": 11,
   "metadata": {},
   "outputs": [],
   "source": [
    "#Imports for the project\n",
    "import numpy as np\n",
    "import pandas as pd\n",
    "import matplotlib.pyplot as plt"
   ]
  },
  {
   "cell_type": "code",
   "execution_count": 12,
   "metadata": {},
   "outputs": [],
   "source": [
    "#Datasets for the project\n",
    "circuits = pd.read_csv(\"raw_data/circuits.csv\")\n",
    "races = pd.read_csv(\"raw_data/races.csv\") #1950-2023\n",
    "sprint_results = pd.read_csv(\"raw_data/sprint_results.csv\")\n"
   ]
  },
  {
   "cell_type": "markdown",
   "metadata": {},
   "source": [
    "Results\\\n",
    "Combination of code to produce tables/plots\\\n",
    "Eplanation of the findings\\\n",
    "Describe pobserved patterns & relationships"
   ]
  },
  {
   "cell_type": "markdown",
   "metadata": {},
   "source": [
    "Discussion\\\n",
    "Summarize findings: what you learn from the data"
   ]
  }
 ],
 "metadata": {
  "kernelspec": {
   "display_name": "qtm151",
   "language": "python",
   "name": "python3"
  },
  "language_info": {
   "codemirror_mode": {
    "name": "ipython",
    "version": 3
   },
   "file_extension": ".py",
   "mimetype": "text/x-python",
   "name": "python",
   "nbconvert_exporter": "python",
   "pygments_lexer": "ipython3",
   "version": "3.11.4"
  }
 },
 "nbformat": 4,
 "nbformat_minor": 2
}
